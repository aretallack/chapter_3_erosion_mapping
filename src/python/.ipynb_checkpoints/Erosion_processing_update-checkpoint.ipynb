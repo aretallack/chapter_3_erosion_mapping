{
 "cells": [
  {
   "attachments": {},
   "cell_type": "markdown",
   "metadata": {},
   "source": [
    "Imports"
   ]
  },
  {
   "cell_type": "code",
   "execution_count": 10,
   "metadata": {},
   "outputs": [],
   "source": [
    "import os\n",
    "import rasterio\n",
    "import rasterio.mask\n",
    "from rasterio.warp import calculate_default_transform, reproject\n",
    "from rasterio.enums import Resampling\n",
    "import fiona\n",
    "import numpy as np\n",
    "from matplotlib import pyplot"
   ]
  },
  {
   "cell_type": "markdown",
   "metadata": {},
   "source": [
    "Cropping Function"
   ]
  },
  {
   "cell_type": "code",
   "execution_count": 3,
   "metadata": {},
   "outputs": [],
   "source": [
    "def crop_by_polygon(raster, outpath, polygon):\n",
    "    with fiona.open(polygon, 'r') as shp:\n",
    "        shapes = [feature['geometry'] for feature in shp]\n",
    "        \n",
    "    with rasterio.open(raster) as ras:\n",
    "        out_image, out_transform = rasterio.mask.mask(ras, shapes, crop=True)\n",
    "        out_meta = ras.meta\n",
    "        out_meta.update({'driver': 'Gtiff',\n",
    "                         'height': out_image.shape[1],\n",
    "                         'width': out_image.shape[2],\n",
    "                         'transform': out_transform})\n",
    "        \n",
    "        with rasterio.open(outpath, 'w', **out_meta) as dst:\n",
    "            dst.write(out_image)"
   ]
  },
  {
   "attachments": {},
   "cell_type": "markdown",
   "metadata": {},
   "source": [
    "Differencing Function"
   ]
  },
  {
   "cell_type": "code",
   "execution_count": 146,
   "metadata": {},
   "outputs": [],
   "source": [
    "def difference_dems(raster_a, raster_b, write_out = True, outpath=None):\n",
    "    ras_a = rasterio.open(raster_a)\n",
    "    np_ras_a = ras_a.read(1, masked=True)\n",
    "        \n",
    "    ras_b = rasterio.open(raster_b)\n",
    "    np_ras_b = ras_b.read(1, masked=True)\n",
    "    \n",
    "    # if ras_a has a higher resolution than ras_b\n",
    "    if ras_a.res[0] <= ras_b.res[0]:\n",
    "        print(os.path.basename(raster_a), ' has higher resolution.')\n",
    "        profile = ras_a.profile\n",
    "        # create blank array to reproject lower res raster\n",
    "        dst_shape = (ras_a.height, ras_a.width)\n",
    "        dst_ras = np.zeros(dst_shape, np.float32)\n",
    "\n",
    "        reproject(\n",
    "            source=np_ras_b,\n",
    "            destination=dst_ras,\n",
    "            src_transform=ras_b.transform,\n",
    "            src_crs=ras_b.crs,\n",
    "            dst_transform=ras_a.transform,\n",
    "            dst_crs=ras_a.crs,\n",
    "            resampling=Resampling.bilinear\n",
    "        )\n",
    "\n",
    "        diff_raster = np_ras_a - dst_ras\n",
    "        \n",
    "        # with fiona.open(polygon, 'r') as shp:\n",
    "        #     shapes = [feature['geometry'] for feature in shp]\n",
    "        \n",
    "        # with rasterio.open(diff_raster) as ras:\n",
    "        #     diff_raster = rasterio.mask.mask(ras, shapes, crop = True)\n",
    "   \n",
    "    \n",
    "    # where ras_a has a lower resolution than ras_b\n",
    "    else:\n",
    "        print(os.path.basename(raster_b), ' has higher resolution.')\n",
    "        profile = ras_b.profile\n",
    "        dst_shape = (ras_b.height, ras_b.width)\n",
    "        dst_ras = np.zeros(dst_shape, np.float32)\n",
    "\n",
    "        reproject(\n",
    "            source=np_ras_a,\n",
    "            destination=dst_ras,\n",
    "            src_transform=ras_a.transform,\n",
    "            src_crs=ras_a.crs,\n",
    "            dst_transform=ras_b.transform,\n",
    "            dst_crs=ras_b.crs,\n",
    "            resampling=Resampling.bilinear\n",
    "        )\n",
    "        \n",
    "        diff_raster = dst_ras - np_ras_b\n",
    "        \n",
    "        # with fiona.open(polygon, 'r') as shp:\n",
    "        #     shapes = [feature['geometry'] for feature in shp]\n",
    "        \n",
    "        # with rasterio.open(diff_raster) as ras:\n",
    "        #     diff_raster = rasterio.mask.mask(ras, shapes, crop = True)\n",
    "    \n",
    "    if write_out == True:\n",
    "        with rasterio.open(outpath, 'w', **profile) as out_raster:\n",
    "            out_raster.write(diff_raster, 1)\n",
    "    \n",
    "    return diff_raster"
   ]
  },
  {
   "attachments": {},
   "cell_type": "markdown",
   "metadata": {},
   "source": [
    "Setting up directories"
   ]
  },
  {
   "cell_type": "code",
   "execution_count": 20,
   "metadata": {},
   "outputs": [],
   "source": [
    "working_dir = r'E:\\phd_chapters\\chapter_4_erosion_mapping'\n",
    "os.chdir(working_dir)\n",
    "\n",
    "# working_dir_shallow = r'D:\\20210300_BH_Boolcoomatta_Erosion\\DEMs\\RGB\\Standard\\Shallow'\n",
    "out_rgb = r'.\\outputs\\processed_dems\\rgb'\n",
    "out_lidar = r'.\\outputs\\processed_dems\\lidar'\n",
    "shp = r'.\\data\\shp\\Boolcoomatta_DeepGully_Boundary.shp'\n",
    "shp_shallow = r'.\\data\\shp\\Boolcoomatta_ShallowGully_Boundary.shp'\n",
    "# difference_dir = r'D:\\20210300_BH_Boolcoomatta_Erosion\\DEMs\\RGB\\Difference'\n",
    "lidar_dir = r'.\\data\\unprocessed_dems\\lidar'\n",
    "rgb_dir = r'.\\data\\unprocessed_dems\\rgb'"
   ]
  },
  {
   "cell_type": "code",
   "execution_count": 6,
   "metadata": {},
   "outputs": [],
   "source": [
    "march_2022_4cm = r'.\\data\\unprocessed_dems\\rgb\\20220301_Deep_RGB_4cm_DEM.tif'\n",
    "march_2022_6cm = r'.\\data\\unprocessed_dems\\rgb\\20220301_Deep_RGB_6cm_DEM.tif'"
   ]
  },
  {
   "cell_type": "code",
   "execution_count": 7,
   "metadata": {},
   "outputs": [
    {
     "name": "stdout",
     "output_type": "stream",
     "text": [
      ".\\outputs\\processed_dems\\rgb\\20220301_Deep_RGB_4cm_DEM_clipped.tif\n"
     ]
    }
   ],
   "source": [
    "out_file = os.path.join(out_rgb, os.path.basename(march_2022_4cm[:-4]) + '_clipped.tif')\n",
    "print(out_file)\n",
    "crop_by_polygon(march_2022_4cm, out_file, shp)"
   ]
  },
  {
   "attachments": {},
   "cell_type": "markdown",
   "metadata": {},
   "source": [
    "Crop LiDAR files"
   ]
  },
  {
   "cell_type": "code",
   "execution_count": 8,
   "metadata": {},
   "outputs": [],
   "source": [
    "### Crop LiDAR Deep ###\n",
    "lidar_files_deep = [file for file in os.listdir(lidar_dir) if file.endswith('tif') if ('Deep' in file)]\n",
    "\n",
    "for file in lidar_files_deep:\n",
    "    in_file = os.path.join(lidar_dir, file)\n",
    "    out_file = os.path.join(out_lidar, file[:-4] + '_clipped.tif')\n",
    "    crop_by_polygon(in_file, out_file, shp)"
   ]
  },
  {
   "cell_type": "code",
   "execution_count": 9,
   "metadata": {},
   "outputs": [],
   "source": [
    "### Crop LiDAR Shallow ###\n",
    "lidar_files_shallow = [file for file in os.listdir(lidar_dir) if file.endswith('.tif') if ('Shallow' in file)]\n",
    "\n",
    "for file in lidar_files_shallow:\n",
    "    in_file = os.path.join(lidar_dir, file)\n",
    "    out_file = os.path.join(out_lidar, file[:-4] + '_clipped.tif')\n",
    "    crop_by_polygon(in_file, out_file, shp_shallow)"
   ]
  },
  {
   "attachments": {},
   "cell_type": "markdown",
   "metadata": {
    "jupyter": {
     "source_hidden": true
    }
   },
   "source": [
    "Crop RGB files"
   ]
  },
  {
   "cell_type": "code",
   "execution_count": 31,
   "metadata": {},
   "outputs": [],
   "source": [
    "### Crop RGB Deep ###\n",
    "\n",
    "RGB_files = [file for file in os.listdir(rgb_dir) if file.endswith('.tif')]\n",
    "\n",
    "for file in RGB_files:\n",
    "    in_file = os.path.join(rgb_dir, file)\n",
    "    out_file = os.path.join(out_rgb, file[:-4] + '_clipped.tif')\n",
    "    crop_by_polygon(in_file, out_file, shp)\n",
    "\n"
   ]
  },
  {
   "cell_type": "code",
   "execution_count": null,
   "metadata": {},
   "outputs": [],
   "source": [
    "### Crop RGB Shallow ###\n",
    "\n",
    "# RGB_shallow_files = [file for file in os.listdir(working_dir_shallow) if file.endswith('.tif')]\n",
    "\n",
    "# for file in RGB_shallow_files:\n",
    "#     in_file = os.path.join(working_dir_shallow, file)\n",
    "#     out_file = os.path.join(out_dir, file[:-4] + '_clipped.tif')\n",
    "#     crop_by_polygon(in_file, out_file, shp_shallow)"
   ]
  },
  {
   "attachments": {},
   "cell_type": "markdown",
   "metadata": {},
   "source": [
    "Input LiDAR files"
   ]
  },
  {
   "cell_type": "code",
   "execution_count": 32,
   "metadata": {},
   "outputs": [],
   "source": [
    "### LiDAR in files ###\n",
    "\n",
    "lidar_0316_deep = os.path.join(out_lidar, '20210316_Deep_LiDAR_DEM_clipped.tif')\n",
    "lidar_0317_deep = os.path.join(out_lidar, '20210317_Deep_LiDAR_DEM_clipped.tif')\n",
    "\n",
    "lidar_0316_shallow = os.path.join(out_lidar, '20210316_Shallow_LiDAR_DEM_clipped.tif')\n",
    "lidar_0318_shallow = os.path.join(out_lidar, '20210318_Shallow_LiDAR_DEM_clipped.tif')\n"
   ]
  },
  {
   "attachments": {},
   "cell_type": "markdown",
   "metadata": {},
   "source": [
    "Input RGB files"
   ]
  },
  {
   "cell_type": "code",
   "execution_count": 33,
   "metadata": {},
   "outputs": [],
   "source": [
    "### Resolution comparisons ###\n",
    "\n",
    "### Graeme trip 1 day 1 ###\n",
    "rgb_0505_deep_35m = os.path.join(out_rgb, '20210505_Deep_RGB_2cm_DEM_clipped.tif')\n",
    "rgb_0505_deep_70m = os.path.join(out_rgb, '20210505_Deep_RGB_4cm_DEM_clipped.tif')\n",
    "rgb_0505_deep_110m = os.path.join(out_rgb, '20210505_Deep_RGB_6cm_DEM_clipped.tif')\n",
    "\n",
    "### Graeme trip 1 day 2 ###\n",
    "rgb_0506_deep_35m = os.path.join(out_rgb, '20210506_Deep_RGB_2cm_DEM_clipped.tif')\n",
    "rgb_0506_deep_70m = os.path.join(out_rgb, '20210506_Deep_RGB_4cm_DEM_clipped.tif')\n",
    "rgb_0506_deep_110m = os.path.join(out_rgb, '20210506_Deep_RGB_6cm_DEM_clipped.tif')\n",
    "\n",
    "### Graeme trip 2 - only one date ###\n",
    "\n",
    "rgb_0301_deep_35m = os.path.join(out_rgb, '20220301_Deep_RGB_2cm_DEM_clipped.tif')\n",
    "\n",
    "### URAF trip ###\n",
    "\n",
    "rgb_0316_deep_35m = os.path.join(out_rgb, '20210316_Deep_RGB_2cm_DEM_clipped.tif')\n",
    "rgb_0317_deep_70m = os.path.join(out_rgb, '20210317_Deep_RGB_4cm_DEM_clipped.tif')\n",
    "rgb_0317_deep_110m = os.path.join(out_rgb, '20210317_Deep_RGB_6cm_DEM_clipped.tif')\n",
    "\n",
    "### URAF trip shallow ###\n",
    "\n",
    "rgb_0316_shallow_35m = os.path.join(out_rgb, '20210316_Shallow_RGB_2cm_DEM_clipped.tif')\n",
    "rgb_0318_shallow_70m = os.path.join(out_rgb, '20210318_Shallow_RGB_4cm_DEM_clipped.tif')\n",
    "rgb_0318_shallow_110m = os.path.join(out_rgb, '20210318_Shallow_RGB_6cm_DEM_clipped.tif')\n",
    "\n"
   ]
  },
  {
   "attachments": {},
   "cell_type": "markdown",
   "metadata": {},
   "source": [
    "Setting output file paths"
   ]
  },
  {
   "cell_type": "code",
   "execution_count": 149,
   "metadata": {},
   "outputs": [],
   "source": [
    "### RGB out files ###\n",
    "rgb_diff_dir = os.path.join(os.getcwd(), 'outputs\\\\processed_dems\\\\rgb\\\\differenced')\n",
    "\n",
    "\n",
    "rgb_0505_deep_35_70_out = os.path.join(rgb_diff_dir, '20210505_Deep_RGB_35_70_diff.tif')\n",
    "rgb_0505_deep_35_110_out = os.path.join(rgb_diff_dir, '20210505_Deep_RGB_35_110_diff.tif')\n",
    "rgb_0505_deep_70_110_out = os.path.join(rgb_diff_dir, '20210505_Deep_RGB_70_110_diff.tif')\n",
    "\n",
    "rgb_0506_deep_35_70_out = os.path.join(rgb_diff_dir, '20210506_Deep_RGB_35_70_diff.tif')\n",
    "rgb_0506_deep_35_110_out = os.path.join(rgb_diff_dir, '20210506_Deep_RGB_35_110_diff.tif')\n",
    "rgb_0506_deep_70_110_out = os.path.join(rgb_diff_dir, '20210506_Deep_RGB_70_110_diff.tif')\n",
    "\n",
    "rgb_0506_0505_deep_35_out = os.path.join(rgb_diff_dir, '20210506_20210505_Deep_RGB_35_diff.tif')\n",
    "rgb_0506_0505_deep_70_out = os.path.join(rgb_diff_dir, '20210506_20210505_Deep_RGB_70_diff.tif')\n",
    "rgb_0506_0505_deep_110_out = os.path.join(rgb_diff_dir, '20210506_20210505_Deep_RGB_110_diff.tif')\n",
    "\n",
    "rgb_0301_0505_deep_35_out = os.path.join(rgb_diff_dir, '20220301_20210505_Deep_RGB_35_diff.tif')\n",
    "\n",
    "rgb_URAF_deep_35_70_out = os.path.join(rgb_diff_dir, '202103_Deep_RGB_35_70_diff.tif')\n",
    "rgb_URAF_deep_35_110_out = os.path.join(rgb_diff_dir, '202103_Deep_RGB_35_110_diff.tif')\n",
    "rgb_URAF_deep_70_110_out = os.path.join(rgb_diff_dir, '202103_Deep_RGB_70_110_diff.tif')\n",
    "\n",
    "rgb_URAF_shallow_35_70_out = os.path.join(rgb_diff_dir, '202103_Shallow_RGB_35_70_diff.tif')\n",
    "rgb_URAF_shallow_35_110_out = os.path.join(rgb_diff_dir, '202103_Shallow_RGB_35_110_diff.tif')\n",
    "rgb_URAF_shallow_70_110_out = os.path.join(rgb_diff_dir, '202103_Shallow_70_110_diff.tif')\n"
   ]
  },
  {
   "attachments": {},
   "cell_type": "markdown",
   "metadata": {},
   "source": [
    "Differencing "
   ]
  },
  {
   "cell_type": "code",
   "execution_count": 152,
   "metadata": {},
   "outputs": [
    {
     "ename": "RasterioIOError",
     "evalue": ".\\outputs\\processed_dems\\rgb\\20210318_Shallow_RGB_4cm_DEM_clipped.tif: No such file or directory",
     "output_type": "error",
     "traceback": [
      "\u001b[1;31m---------------------------------------------------------------------------\u001b[0m",
      "\u001b[1;31mCPLE_OpenFailedError\u001b[0m                      Traceback (most recent call last)",
      "File \u001b[1;32mrasterio\\_base.pyx:310\u001b[0m, in \u001b[0;36mrasterio._base.DatasetBase.__init__\u001b[1;34m()\u001b[0m\n",
      "File \u001b[1;32mrasterio\\_base.pyx:221\u001b[0m, in \u001b[0;36mrasterio._base.open_dataset\u001b[1;34m()\u001b[0m\n",
      "File \u001b[1;32mrasterio\\_err.pyx:221\u001b[0m, in \u001b[0;36mrasterio._err.exc_wrap_pointer\u001b[1;34m()\u001b[0m\n",
      "\u001b[1;31mCPLE_OpenFailedError\u001b[0m: .\\outputs\\processed_dems\\rgb\\20210318_Shallow_RGB_4cm_DEM_clipped.tif: No such file or directory",
      "\nDuring handling of the above exception, another exception occurred:\n",
      "\u001b[1;31mRasterioIOError\u001b[0m                           Traceback (most recent call last)",
      "Cell \u001b[1;32mIn[152], line 23\u001b[0m\n\u001b[0;32m      1\u001b[0m \u001b[38;5;66;03m### Differencing ### \u001b[39;00m\n\u001b[0;32m      2\u001b[0m \n\u001b[0;32m      3\u001b[0m \u001b[38;5;66;03m# Change processing order to have last date first\u001b[39;00m\n\u001b[1;32m   (...)\u001b[0m\n\u001b[0;32m     20\u001b[0m \u001b[38;5;66;03m# rgb_URAF_deep_35_110_diff = difference_dems(rgb_0317_deep_110m, rgb_0316_deep_35m, write_out=True, outpath = rgb_URAF_deep_35_110_out)\u001b[39;00m\n\u001b[0;32m     21\u001b[0m \u001b[38;5;66;03m# rgb_URAF_deep_70_110_diff = difference_dems(rgb_0317_deep_110m, rgb_0317_deep_70m, write_out=True, outpath = rgb_URAF_deep_70_110_out)\u001b[39;00m\n\u001b[1;32m---> 23\u001b[0m rgb_URAF_shallow_35_70_diff \u001b[38;5;241m=\u001b[39m \u001b[43mdifference_dems\u001b[49m\u001b[43m(\u001b[49m\u001b[43mrgb_0318_shallow_70m\u001b[49m\u001b[43m,\u001b[49m\u001b[43m \u001b[49m\u001b[43mrgb_0316_shallow_35m\u001b[49m\u001b[43m,\u001b[49m\u001b[43m \u001b[49m\u001b[43mwrite_out\u001b[49m\u001b[38;5;241;43m=\u001b[39;49m\u001b[38;5;28;43;01mTrue\u001b[39;49;00m\u001b[43m,\u001b[49m\u001b[43m \u001b[49m\u001b[43moutpath\u001b[49m\u001b[43m \u001b[49m\u001b[38;5;241;43m=\u001b[39;49m\u001b[43m \u001b[49m\u001b[43mrgb_URAF_shallow_35_70_out\u001b[49m\u001b[43m)\u001b[49m\n\u001b[0;32m     24\u001b[0m rgb_URAF_shallow_35_110_diff \u001b[38;5;241m=\u001b[39m difference_dems(rgb_0318_shallow_110m, rgb_0316_shallow_35m, write_out\u001b[38;5;241m=\u001b[39m\u001b[38;5;28;01mTrue\u001b[39;00m, outpath \u001b[38;5;241m=\u001b[39m rgb_URAF_shallow_35_110_out)\n\u001b[0;32m     25\u001b[0m rgb_URAF_shallow_70_110_diff \u001b[38;5;241m=\u001b[39m difference_dems(rgb_0318_shallow_110m, rgb_0318_shallow_70m, write_out\u001b[38;5;241m=\u001b[39m\u001b[38;5;28;01mTrue\u001b[39;00m, outpath \u001b[38;5;241m=\u001b[39m rgb_URAF_shallow_70_110_out)\n",
      "Cell \u001b[1;32mIn[146], line 2\u001b[0m, in \u001b[0;36mdifference_dems\u001b[1;34m(raster_a, raster_b, write_out, outpath)\u001b[0m\n\u001b[0;32m      1\u001b[0m \u001b[38;5;28;01mdef\u001b[39;00m \u001b[38;5;21mdifference_dems\u001b[39m(raster_a, raster_b, write_out \u001b[38;5;241m=\u001b[39m \u001b[38;5;28;01mTrue\u001b[39;00m, outpath\u001b[38;5;241m=\u001b[39m\u001b[38;5;28;01mNone\u001b[39;00m):\n\u001b[1;32m----> 2\u001b[0m     ras_a \u001b[38;5;241m=\u001b[39m \u001b[43mrasterio\u001b[49m\u001b[38;5;241;43m.\u001b[39;49m\u001b[43mopen\u001b[49m\u001b[43m(\u001b[49m\u001b[43mraster_a\u001b[49m\u001b[43m)\u001b[49m\n\u001b[0;32m      3\u001b[0m     np_ras_a \u001b[38;5;241m=\u001b[39m ras_a\u001b[38;5;241m.\u001b[39mread(\u001b[38;5;241m1\u001b[39m, masked\u001b[38;5;241m=\u001b[39m\u001b[38;5;28;01mTrue\u001b[39;00m)\n\u001b[0;32m      5\u001b[0m     ras_b \u001b[38;5;241m=\u001b[39m rasterio\u001b[38;5;241m.\u001b[39mopen(raster_b)\n",
      "File \u001b[1;32m~\\.conda\\envs\\py\\Lib\\site-packages\\rasterio\\env.py:451\u001b[0m, in \u001b[0;36mensure_env_with_credentials.<locals>.wrapper\u001b[1;34m(*args, **kwds)\u001b[0m\n\u001b[0;32m    448\u001b[0m     session \u001b[38;5;241m=\u001b[39m DummySession()\n\u001b[0;32m    450\u001b[0m \u001b[38;5;28;01mwith\u001b[39;00m env_ctor(session\u001b[38;5;241m=\u001b[39msession):\n\u001b[1;32m--> 451\u001b[0m     \u001b[38;5;28;01mreturn\u001b[39;00m \u001b[43mf\u001b[49m\u001b[43m(\u001b[49m\u001b[38;5;241;43m*\u001b[39;49m\u001b[43margs\u001b[49m\u001b[43m,\u001b[49m\u001b[43m \u001b[49m\u001b[38;5;241;43m*\u001b[39;49m\u001b[38;5;241;43m*\u001b[39;49m\u001b[43mkwds\u001b[49m\u001b[43m)\u001b[49m\n",
      "File \u001b[1;32m~\\.conda\\envs\\py\\Lib\\site-packages\\rasterio\\__init__.py:304\u001b[0m, in \u001b[0;36mopen\u001b[1;34m(fp, mode, driver, width, height, count, crs, transform, dtype, nodata, sharing, **kwargs)\u001b[0m\n\u001b[0;32m    301\u001b[0m path \u001b[38;5;241m=\u001b[39m _parse_path(raw_dataset_path)\n\u001b[0;32m    303\u001b[0m \u001b[38;5;28;01mif\u001b[39;00m mode \u001b[38;5;241m==\u001b[39m \u001b[38;5;124m\"\u001b[39m\u001b[38;5;124mr\u001b[39m\u001b[38;5;124m\"\u001b[39m:\n\u001b[1;32m--> 304\u001b[0m     dataset \u001b[38;5;241m=\u001b[39m \u001b[43mDatasetReader\u001b[49m\u001b[43m(\u001b[49m\u001b[43mpath\u001b[49m\u001b[43m,\u001b[49m\u001b[43m \u001b[49m\u001b[43mdriver\u001b[49m\u001b[38;5;241;43m=\u001b[39;49m\u001b[43mdriver\u001b[49m\u001b[43m,\u001b[49m\u001b[43m \u001b[49m\u001b[43msharing\u001b[49m\u001b[38;5;241;43m=\u001b[39;49m\u001b[43msharing\u001b[49m\u001b[43m,\u001b[49m\u001b[43m \u001b[49m\u001b[38;5;241;43m*\u001b[39;49m\u001b[38;5;241;43m*\u001b[39;49m\u001b[43mkwargs\u001b[49m\u001b[43m)\u001b[49m\n\u001b[0;32m    305\u001b[0m \u001b[38;5;28;01melif\u001b[39;00m mode \u001b[38;5;241m==\u001b[39m \u001b[38;5;124m\"\u001b[39m\u001b[38;5;124mr+\u001b[39m\u001b[38;5;124m\"\u001b[39m:\n\u001b[0;32m    306\u001b[0m     dataset \u001b[38;5;241m=\u001b[39m get_writer_for_path(path, driver\u001b[38;5;241m=\u001b[39mdriver)(\n\u001b[0;32m    307\u001b[0m         path, mode, driver\u001b[38;5;241m=\u001b[39mdriver, sharing\u001b[38;5;241m=\u001b[39msharing, \u001b[38;5;241m*\u001b[39m\u001b[38;5;241m*\u001b[39mkwargs\n\u001b[0;32m    308\u001b[0m     )\n",
      "File \u001b[1;32mrasterio\\_base.pyx:312\u001b[0m, in \u001b[0;36mrasterio._base.DatasetBase.__init__\u001b[1;34m()\u001b[0m\n",
      "\u001b[1;31mRasterioIOError\u001b[0m: .\\outputs\\processed_dems\\rgb\\20210318_Shallow_RGB_4cm_DEM_clipped.tif: No such file or directory"
     ]
    }
   ],
   "source": [
    "### Differencing ### \n",
    "\n",
    "# Change processing order to have last date first\n",
    "\n",
    "rgb_0505_deep_35_70_diff = difference_dems(rgb_0505_deep_35m, rgb_0505_deep_70m, write_out=True, outpath = rgb_0505_deep_35_70_out)\n",
    "rgb_0505_deep_35_110_diff = difference_dems(rgb_0505_deep_35m, rgb_0505_deep_110m, write_out=True, outpath = rgb_0505_deep_35_110_out)\n",
    "rgb_0505_deep_70_110_diff = difference_dems(rgb_0505_deep_70m, rgb_0505_deep_110m, write_out=True, outpath = rgb_0505_deep_70_110_out)\n",
    "\n",
    "rgb_0506_deep_35_70_diff = difference_dems(rgb_0506_deep_35m, rgb_0506_deep_70m, write_out=True, outpath = rgb_0506_deep_35_70_out)\n",
    "rgb_0506_deep_35_110_diff = difference_dems(rgb_0506_deep_35m, rgb_0506_deep_110m, write_out=True, outpath = rgb_0506_deep_35_110_out)\n",
    "rgb_0506_deep_70_110_diff = difference_dems(rgb_0506_deep_70m, rgb_0506_deep_110m, write_out=True, outpath = rgb_0506_deep_70_110_out)\n",
    "\n",
    "rgb_0506_0505_deep_35_diff = difference_dems(rgb_0506_deep_35m, rgb_0505_deep_35m, write_out=True, outpath = rgb_0506_0505_deep_35_out)\n",
    "rgb_0506_0505_deep_70_diff = difference_dems(rgb_0506_deep_70m, rgb_0505_deep_70m, write_out=True, outpath = rgb_0506_0505_deep_70_out)\n",
    "rgb_0506_0505_deep_110_diff = difference_dems(rgb_0506_deep_110m, rgb_0505_deep_110m, write_out=True, outpath = rgb_0506_0505_deep_110_out)\n",
    "\n",
    "rgb_0301_0505_deep_35_diff = difference_dems(rgb_0505_deep_35m, rgb_0301_deep_35m, write_out=True, outpath = rgb_0301_0505_deep_35_out)\n",
    "\n",
    "rgb_URAF_deep_35_70_diff = difference_dems(rgb_0317_deep_70m, rgb_0316_deep_35m, write_out=True, outpath = rgb_URAF_deep_35_70_out)\n",
    "rgb_URAF_deep_35_110_diff = difference_dems(rgb_0317_deep_110m, rgb_0316_deep_35m, write_out=True, outpath = rgb_URAF_deep_35_110_out)\n",
    "rgb_URAF_deep_70_110_diff = difference_dems(rgb_0317_deep_110m, rgb_0317_deep_70m, write_out=True, outpath = rgb_URAF_deep_70_110_out)\n",
    "\n",
    "# rgb_URAF_shallow_35_70_diff = difference_dems(rgb_0318_shallow_70m, rgb_0316_shallow_35m, write_out=True, outpath = rgb_URAF_shallow_35_70_out)\n",
    "# rgb_URAF_shallow_35_110_diff = difference_dems(rgb_0318_shallow_110m, rgb_0316_shallow_35m, write_out=True, outpath = rgb_URAF_shallow_35_110_out)\n",
    "# rgb_URAF_shallow_70_110_diff = difference_dems(rgb_0318_shallow_110m, rgb_0318_shallow_70m, write_out=True, outpath = rgb_URAF_shallow_70_110_out)\n"
   ]
  },
  {
   "attachments": {},
   "cell_type": "markdown",
   "metadata": {},
   "source": [
    "LiDAR Differencing"
   ]
  },
  {
   "cell_type": "code",
   "execution_count": null,
   "metadata": {},
   "outputs": [],
   "source": [
    "### LiDAR out files ###\n",
    "\n",
    "#lidar_0317_0316_deep_out = os.path.join(lidar_dir, '20210317_20210316_Deep_LiDAR_diff.tif')\n",
    "#lidar_0317_0316_deep_diff = difference_dems(lidar_0317_deep, lidar_0316_deep, write_out=True, outpath=lidar_0317_0316_deep_out)\n",
    "\n",
    "#rgb_lidar_0316_deep_out = os.path.join(lidar_dir, '20210316_Deep_LiDAR_RGB_4cm_diff.tif')\n",
    "#rgb_lidar_0316_deep_diff = difference_dems(rgb_0316_deep_70m, lidar_0316_deep, write_out=True, outpath=rgb_lidar_0316_deep_out)\n",
    "\n",
    "#rgb_lidar_0317_deep_out = os.path.join(lidar_dir, '20210317_Deep_LiDAR_RGB_4cm_diff.tif')\n",
    "#rgb_lidar_0317_deep_out = difference_dems(rgb_0316_deep_70m, lidar_0317_deep, write_out=True, outpath=rgb_lidar_0317_deep_out)\n",
    "\n",
    "lidar_0318_0316_shallow_out = os.path.join(lidar_dir_shallow, '20210318_20210316_Shallow_LiDAR_diff.tif')\n",
    "lidar_0318_0316_shallow_diff = difference_dems(lidar_0318_shallow, lidar_0316_shallow, write_out=True, outpath=lidar_0318_0316_shallow_out)"
   ]
  },
  {
   "cell_type": "code",
   "execution_count": null,
   "metadata": {},
   "outputs": [],
   "source": []
  }
 ],
 "metadata": {
  "kernelspec": {
   "display_name": "Python 3 (ipykernel)",
   "language": "python",
   "name": "python3"
  },
  "language_info": {
   "codemirror_mode": {
    "name": "ipython",
    "version": 3
   },
   "file_extension": ".py",
   "mimetype": "text/x-python",
   "name": "python",
   "nbconvert_exporter": "python",
   "pygments_lexer": "ipython3",
   "version": "3.11.4"
  },
  "vscode": {
   "interpreter": {
    "hash": "cf685f59d1462d09c4403c0eb4fff6661bf761e370e90fcc439a6d72918d9058"
   }
  }
 },
 "nbformat": 4,
 "nbformat_minor": 4
}
